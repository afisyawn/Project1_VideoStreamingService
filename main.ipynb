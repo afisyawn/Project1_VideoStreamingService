{
 "cells": [
  {
   "cell_type": "code",
   "execution_count": 1,
   "metadata": {},
   "outputs": [],
   "source": [
    "from pacflix import *"
   ]
  },
  {
   "cell_type": "code",
   "execution_count": 2,
   "metadata": {},
   "outputs": [
    {
     "name": "stdout",
     "output_type": "stream",
     "text": [
      "PacFlix Plan List \n",
      "\n",
      "Basic Plan            Standard Plan                Premium Plan                                          Services\n",
      "--------------------  ---------------------------  ----------------------------------------------------  -----------------\n",
      "True                  True                         True                                                  Bisa Stream\n",
      "True                  True                         True                                                  Bisa Download\n",
      "True                  True                         True                                                  Kualitas SD\n",
      "False                 True                         True                                                  Kualitas HD\n",
      "False                 False                        True                                                  Kualitas UHD\n",
      "1                     2                            4                                                     Number of devices\n",
      "3rd party Movie only  Basic Plan Content + Sports  Basic Plan + Standrad Plan + PacFlix Original Series  Jenis Konten\n",
      "120000                160000                       200000                                                harga \n",
      "\n"
     ]
    }
   ],
   "source": [
    "user1 = User()\n",
    "user1.check_benefit()"
   ]
  },
  {
   "cell_type": "code",
   "execution_count": 3,
   "metadata": {},
   "outputs": [],
   "source": [
    "user1 = User(username= \"Shandy\", duration_plan = 12, current_plan =\"Basic Plan\")"
   ]
  },
  {
   "cell_type": "code",
   "execution_count": 4,
   "metadata": {},
   "outputs": [
    {
     "data": {
      "text/plain": [
       "('Shandy', 12, 'Basic Plan')"
      ]
     },
     "execution_count": 4,
     "metadata": {},
     "output_type": "execute_result"
    }
   ],
   "source": [
    "user1.username, user1.duration_plan, user1.current_plan"
   ]
  },
  {
   "cell_type": "code",
   "execution_count": 5,
   "metadata": {},
   "outputs": [
    {
     "name": "stdout",
     "output_type": "stream",
     "text": [
      "Shandy menggunakan Basic Plan\n",
      "Sejak 12 bulan yang lalu \n",
      "\n",
      "Basic Plan PacFlix Benefit List\n",
      "Basic Plan            Services\n",
      "--------------------  -----------------\n",
      "True                  Bisa Stream\n",
      "True                  Bisa Download\n",
      "True                  Kualitas SD\n",
      "False                 Kualitas HD\n",
      "False                 Kualitas UHD\n",
      "1                     Number of devices\n",
      "3rd party Movie only  Jenis Konten\n",
      "120000                harga\n"
     ]
    }
   ],
   "source": [
    "user1.check_plan(username = \"Shandy\")"
   ]
  },
  {
   "cell_type": "code",
   "execution_count": 6,
   "metadata": {},
   "outputs": [
    {
     "name": "stdout",
     "output_type": "stream",
     "text": [
      "160000\n"
     ]
    }
   ],
   "source": [
    "user1.upgrade_plan(username = \"Shandy\", current_plan = \"Basic Plan\", new_plan= \"Standard Plan\")"
   ]
  },
  {
   "cell_type": "code",
   "execution_count": 7,
   "metadata": {},
   "outputs": [],
   "source": [
    "user2 = User(\"Cahya\", 24, \"Standard Plan\")"
   ]
  },
  {
   "cell_type": "code",
   "execution_count": 8,
   "metadata": {},
   "outputs": [
    {
     "name": "stdout",
     "output_type": "stream",
     "text": [
      "PacFlix Plan List \n",
      "\n",
      "Basic Plan            Standard Plan                Premium Plan                                          Services\n",
      "--------------------  ---------------------------  ----------------------------------------------------  -----------------\n",
      "True                  True                         True                                                  Bisa Stream\n",
      "True                  True                         True                                                  Bisa Download\n",
      "True                  True                         True                                                  Kualitas SD\n",
      "False                 True                         True                                                  Kualitas HD\n",
      "False                 False                        True                                                  Kualitas UHD\n",
      "1                     2                            4                                                     Number of devices\n",
      "3rd party Movie only  Basic Plan Content + Sports  Basic Plan + Standrad Plan + PacFlix Original Series  Jenis Konten\n",
      "120000                160000                       200000                                                harga \n",
      "\n"
     ]
    }
   ],
   "source": [
    "user2.check_benefit()"
   ]
  },
  {
   "cell_type": "code",
   "execution_count": 9,
   "metadata": {},
   "outputs": [
    {
     "name": "stdout",
     "output_type": "stream",
     "text": [
      "Cahya menggunakan Standard Plan\n",
      "Sejak 24 bulan yang lalu \n",
      "\n",
      "Standard Plan PacFlix Benefit List\n",
      "Standard Plan                Services\n",
      "---------------------------  -----------------\n",
      "True                         Bisa Stream\n",
      "True                         Bisa Download\n",
      "True                         Kualitas SD\n",
      "True                         Kualitas HD\n",
      "False                        Kualitas UHD\n",
      "2                            Number of devices\n",
      "Basic Plan Content + Sports  Jenis Konten\n",
      "160000                       harga\n"
     ]
    }
   ],
   "source": [
    "user2.check_plan(username=\"Cahya\")"
   ]
  },
  {
   "cell_type": "code",
   "execution_count": 10,
   "metadata": {},
   "outputs": [
    {
     "name": "stdout",
     "output_type": "stream",
     "text": [
      "190000.0\n"
     ]
    }
   ],
   "source": [
    "user1.upgrade_plan(username = \"Cahya\", current_plan = \"Standard Plan\", new_plan= \"Premium Plan\")"
   ]
  },
  {
   "cell_type": "code",
   "execution_count": 11,
   "metadata": {},
   "outputs": [],
   "source": [
    "user3 = NewUser(username = \"Ochiyowo\")"
   ]
  },
  {
   "cell_type": "code",
   "execution_count": 12,
   "metadata": {},
   "outputs": [
    {
     "name": "stdout",
     "output_type": "stream",
     "text": [
      "Please pick your plan to enjoy our service\n"
     ]
    }
   ],
   "source": [
    "user3.check_plan(username=\"Ochiyowo\")"
   ]
  },
  {
   "cell_type": "code",
   "execution_count": 13,
   "metadata": {},
   "outputs": [
    {
     "data": {
      "text/plain": [
       "{'Shandy': ['Basic Plan', 12, 'shandy-2134'],\n",
       " 'Cahya': ['Standard Plan', 24, 'cahya-abcd'],\n",
       " 'Ana': ['Premium Plan', 5, 'ana-2f9g'],\n",
       " 'Bagus': ['Basic Plan', 11, 'bagus-9f92'],\n",
       " 'Ochiyowo': ['None', 0, 'None']}"
      ]
     },
     "execution_count": 13,
     "metadata": {},
     "output_type": "execute_result"
    }
   ],
   "source": [
    "user3.user_database"
   ]
  },
  {
   "cell_type": "code",
   "execution_count": 14,
   "metadata": {},
   "outputs": [
    {
     "name": "stdout",
     "output_type": "stream",
     "text": [
      "shandy-2124 Referral code is not exist\n",
      "120000\n",
      "This is your referral code = ochiyowo-31ba\n"
     ]
    }
   ],
   "source": [
    "user3.pick_plan(new_plan= \"Basic Plan\", referral_code = \"shandy-2124\")"
   ]
  },
  {
   "cell_type": "code",
   "execution_count": 15,
   "metadata": {},
   "outputs": [
    {
     "name": "stdout",
     "output_type": "stream",
     "text": [
      "Ochiyowo menggunakan Basic Plan\n",
      "Sejak 1 bulan yang lalu \n",
      "\n",
      "Basic Plan PacFlix Benefit List\n",
      "Basic Plan            Services\n",
      "--------------------  -----------------\n",
      "True                  Bisa Stream\n",
      "True                  Bisa Download\n",
      "True                  Kualitas SD\n",
      "False                 Kualitas HD\n",
      "False                 Kualitas UHD\n",
      "1                     Number of devices\n",
      "3rd party Movie only  Jenis Konten\n",
      "120000                harga\n"
     ]
    }
   ],
   "source": [
    "user3.check_plan(username=\"Ochiyowo\")"
   ]
  },
  {
   "cell_type": "code",
   "execution_count": 16,
   "metadata": {},
   "outputs": [
    {
     "data": {
      "text/plain": [
       "{'Shandy': ['Basic Plan', 12, 'shandy-2134'],\n",
       " 'Cahya': ['Standard Plan', 24, 'cahya-abcd'],\n",
       " 'Ana': ['Premium Plan', 5, 'ana-2f9g'],\n",
       " 'Bagus': ['Basic Plan', 11, 'bagus-9f92'],\n",
       " 'Ochiyowo': ['Basic Plan', 1, 'ochiyowo-31ba']}"
      ]
     },
     "execution_count": 16,
     "metadata": {},
     "output_type": "execute_result"
    }
   ],
   "source": [
    "user3.user_database"
   ]
  },
  {
   "cell_type": "code",
   "execution_count": 17,
   "metadata": {},
   "outputs": [
    {
     "name": "stdout",
     "output_type": "stream",
     "text": [
      "200000\n"
     ]
    }
   ],
   "source": [
    "user3.upgrade_plan(username = \"Ochiyowo\", current_plan = \"Basic Plan\", new_plan= \"Premium Plan\")\n"
   ]
  },
  {
   "cell_type": "code",
   "execution_count": 18,
   "metadata": {},
   "outputs": [
    {
     "name": "stdout",
     "output_type": "stream",
     "text": [
      "Ochiyowo menggunakan Premium Plan\n",
      "Sejak 1 bulan yang lalu \n",
      "\n",
      "Premium Plan PacFlix Benefit List\n",
      "Premium Plan                                          Services\n",
      "----------------------------------------------------  -----------------\n",
      "True                                                  Bisa Stream\n",
      "True                                                  Bisa Download\n",
      "True                                                  Kualitas SD\n",
      "True                                                  Kualitas HD\n",
      "True                                                  Kualitas UHD\n",
      "4                                                     Number of devices\n",
      "Basic Plan + Standrad Plan + PacFlix Original Series  Jenis Konten\n",
      "200000                                                harga\n"
     ]
    }
   ],
   "source": [
    "user3.check_plan(username=\"Ochiyowo\")"
   ]
  },
  {
   "cell_type": "code",
   "execution_count": 19,
   "metadata": {},
   "outputs": [
    {
     "data": {
      "text/plain": [
       "{'Shandy': ['Basic Plan', 12, 'shandy-2134'],\n",
       " 'Cahya': ['Standard Plan', 24, 'cahya-abcd'],\n",
       " 'Ana': ['Premium Plan', 5, 'ana-2f9g'],\n",
       " 'Bagus': ['Basic Plan', 11, 'bagus-9f92'],\n",
       " 'Ochiyowo': ['Premium Plan', 1, 'ochiyowo-31ba']}"
      ]
     },
     "execution_count": 19,
     "metadata": {},
     "output_type": "execute_result"
    }
   ],
   "source": [
    "user3.user_database"
   ]
  }
 ],
 "metadata": {
  "kernelspec": {
   "display_name": "virtualenv1",
   "language": "python",
   "name": "python3"
  },
  "language_info": {
   "codemirror_mode": {
    "name": "ipython",
    "version": 3
   },
   "file_extension": ".py",
   "mimetype": "text/x-python",
   "name": "python",
   "nbconvert_exporter": "python",
   "pygments_lexer": "ipython3",
   "version": "3.10.12"
  }
 },
 "nbformat": 4,
 "nbformat_minor": 2
}
